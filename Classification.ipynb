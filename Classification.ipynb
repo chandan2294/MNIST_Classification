{
  "nbformat": 4,
  "nbformat_minor": 0,
  "metadata": {
    "colab": {
      "name": "Classification.ipynb",
      "provenance": [],
      "collapsed_sections": [],
      "authorship_tag": "ABX9TyMigwS9mqU9G6VWSQgsCpgO",
      "include_colab_link": true
    },
    "kernelspec": {
      "name": "python3",
      "display_name": "Python 3"
    }
  },
  "cells": [
    {
      "cell_type": "markdown",
      "metadata": {
        "id": "view-in-github",
        "colab_type": "text"
      },
      "source": [
        "<a href=\"https://colab.research.google.com/github/chandan2294/MNIST_Classification/blob/master/Classification.ipynb\" target=\"_parent\"><img src=\"https://colab.research.google.com/assets/colab-badge.svg\" alt=\"Open In Colab\"/></a>"
      ]
    },
    {
      "cell_type": "markdown",
      "metadata": {
        "id": "VocndQhokkUA"
      },
      "source": [
        "**Index:**\n",
        "\n",
        "\n",
        "1. Training a Binary Classifier\n",
        "2. Performance Measures\n",
        "  * Measuring Accuracy using Cross-Validation\n",
        "3. Confusion Matrix\n",
        "  * Precision and Recall\n",
        "  * ROC Curve\n",
        "4. Multiclass Classification\n",
        "5. Multilabel Classification\n",
        "6. Multioutput Classification\n",
        "7. Dummy (i.e., random) Classifier\n",
        "8. KNN Classifier\n",
        "\n"
      ]
    },
    {
      "cell_type": "code",
      "metadata": {
        "id": "sf9W_ne293CO"
      },
      "source": [
        "# Python ≥3.5 is required\n",
        "import sys\n",
        "assert sys.version_info >= (3, 5)\n",
        "\n",
        "# Scikit-Learn ≥0.20 is required\n",
        "import sklearn\n",
        "assert sklearn.__version__ >= \"0.20\"\n",
        "\n",
        "# Common imports\n",
        "import numpy as np\n",
        "import os\n",
        "\n",
        "# to make this notebook's output stable across runs\n",
        "np.random.seed(42)\n",
        "\n",
        "# To plot pretty figures\n",
        "%matplotlib inline\n",
        "import matplotlib as mpl\n",
        "import matplotlib.pyplot as plt\n",
        "mpl.rc('axes', labelsize=14)\n",
        "mpl.rc('xtick', labelsize=12)\n",
        "mpl.rc('ytick', labelsize=12)"
      ],
      "execution_count": null,
      "outputs": []
    },
    {
      "cell_type": "markdown",
      "metadata": {
        "id": "dfo2pKou7Ev9"
      },
      "source": [
        "We will be using the MNIST dataset, which is a set of 70,000 small\n",
        "images of digits handwritten by high school students and employees of the US Census\n",
        "Bureau. Each image is labeled with the digit it represents.\n",
        "\n",
        "Scikit-Learn provides many helper functions to download popular datasets. MNIST is\n",
        "one of them. The following code fetches the MNIST dataset:"
      ]
    },
    {
      "cell_type": "code",
      "metadata": {
        "id": "g3RL0b457N9A",
        "colab": {
          "base_uri": "https://localhost:8080/",
          "height": 54
        },
        "outputId": "b8831263-e114-46a7-e2e8-f7141c3ae20f"
      },
      "source": [
        "from sklearn.datasets import fetch_openml\n",
        "\n",
        "mnist = fetch_openml('mnist_784', version = 1)\n",
        "mnist.keys()"
      ],
      "execution_count": null,
      "outputs": [
        {
          "output_type": "execute_result",
          "data": {
            "text/plain": [
              "dict_keys(['data', 'target', 'frame', 'feature_names', 'target_names', 'DESCR', 'details', 'categories', 'url'])"
            ]
          },
          "metadata": {
            "tags": []
          },
          "execution_count": 2
        }
      ]
    },
    {
      "cell_type": "markdown",
      "metadata": {
        "id": "g8W0bRA27rKN"
      },
      "source": [
        "Datasets loaded by Scikit-Learn generally have a similar dictionary structure, including\n",
        "the following:\n",
        "* A DESCR key describing the dataset\n",
        "* A data key containing an array with one row per instance and one column per\n",
        "feature\n",
        "* A target key containing an array with the labels"
      ]
    },
    {
      "cell_type": "code",
      "metadata": {
        "id": "cb_hxs4L7zKQ"
      },
      "source": [
        "mnist['feature_names']"
      ],
      "execution_count": null,
      "outputs": []
    },
    {
      "cell_type": "code",
      "metadata": {
        "id": "S_A47VbU78Mg",
        "colab": {
          "base_uri": "https://localhost:8080/",
          "height": 54
        },
        "outputId": "18f849c2-3b09-4196-a292-fd9528b1224c"
      },
      "source": [
        "mnist['DESCR']"
      ],
      "execution_count": null,
      "outputs": [
        {
          "output_type": "execute_result",
          "data": {
            "text/plain": [
              "\"**Author**: Yann LeCun, Corinna Cortes, Christopher J.C. Burges  \\n**Source**: [MNIST Website](http://yann.lecun.com/exdb/mnist/) - Date unknown  \\n**Please cite**:  \\n\\nThe MNIST database of handwritten digits with 784 features, raw data available at: http://yann.lecun.com/exdb/mnist/. It can be split in a training set of the first 60,000 examples, and a test set of 10,000 examples  \\n\\nIt is a subset of a larger set available from NIST. The digits have been size-normalized and centered in a fixed-size image. It is a good database for people who want to try learning techniques and pattern recognition methods on real-world data while spending minimal efforts on preprocessing and formatting. The original black and white (bilevel) images from NIST were size normalized to fit in a 20x20 pixel box while preserving their aspect ratio. The resulting images contain grey levels as a result of the anti-aliasing technique used by the normalization algorithm. the images were centered in a 28x28 image by computing the center of mass of the pixels, and translating the image so as to position this point at the center of the 28x28 field.  \\n\\nWith some classification methods (particularly template-based methods, such as SVM and K-nearest neighbors), the error rate improves when the digits are centered by bounding box rather than center of mass. If you do this kind of pre-processing, you should report it in your publications. The MNIST database was constructed from NIST's NIST originally designated SD-3 as their training set and SD-1 as their test set. However, SD-3 is much cleaner and easier to recognize than SD-1. The reason for this can be found on the fact that SD-3 was collected among Census Bureau employees, while SD-1 was collected among high-school students. Drawing sensible conclusions from learning experiments requires that the result be independent of the choice of training set and test among the complete set of samples. Therefore it was necessary to build a new database by mixing NIST's datasets.  \\n\\nThe MNIST training set is composed of 30,000 patterns from SD-3 and 30,000 patterns from SD-1. Our test set was composed of 5,000 patterns from SD-3 and 5,000 patterns from SD-1. The 60,000 pattern training set contained examples from approximately 250 writers. We made sure that the sets of writers of the training set and test set were disjoint. SD-1 contains 58,527 digit images written by 500 different writers. In contrast to SD-3, where blocks of data from each writer appeared in sequence, the data in SD-1 is scrambled. Writer identities for SD-1 is available and we used this information to unscramble the writers. We then split SD-1 in two: characters written by the first 250 writers went into our new training set. The remaining 250 writers were placed in our test set. Thus we had two sets with nearly 30,000 examples each. The new training set was completed with enough examples from SD-3, starting at pattern # 0, to make a full set of 60,000 training patterns. Similarly, the new test set was completed with SD-3 examples starting at pattern # 35,000 to make a full set with 60,000 test patterns. Only a subset of 10,000 test images (5,000 from SD-1 and 5,000 from SD-3) is available on this site. The full 60,000 sample training set is available.\\n\\nDownloaded from openml.org.\""
            ]
          },
          "metadata": {
            "tags": []
          },
          "execution_count": 4
        }
      ]
    },
    {
      "cell_type": "code",
      "metadata": {
        "id": "bNVfiW_G8Ebk",
        "colab": {
          "base_uri": "https://localhost:8080/",
          "height": 34
        },
        "outputId": "ee58ad8f-459a-40a0-d82c-98bf98c47418"
      },
      "source": [
        "X, y = mnist['data'], mnist['target']\n",
        "X.shape"
      ],
      "execution_count": null,
      "outputs": [
        {
          "output_type": "execute_result",
          "data": {
            "text/plain": [
              "(70000, 784)"
            ]
          },
          "metadata": {
            "tags": []
          },
          "execution_count": 5
        }
      ]
    },
    {
      "cell_type": "code",
      "metadata": {
        "id": "0qQXI6vx8UpG",
        "colab": {
          "base_uri": "https://localhost:8080/",
          "height": 34
        },
        "outputId": "3d52b4e4-59c4-4fa9-d4a2-5d2d2d14cccd"
      },
      "source": [
        "y.shape"
      ],
      "execution_count": null,
      "outputs": [
        {
          "output_type": "execute_result",
          "data": {
            "text/plain": [
              "(70000,)"
            ]
          },
          "metadata": {
            "tags": []
          },
          "execution_count": 6
        }
      ]
    },
    {
      "cell_type": "markdown",
      "metadata": {
        "id": "Q3Rs3E8R8Xtm"
      },
      "source": [
        "There are 70,000 images, and each image has 784 features. This is because each image\n",
        "is 28 × 28 pixels, and each feature simply represents one pixel’s intensity, from 0\n",
        "(white) to 255 (black). Let’s take a peek at one digit from the dataset. All you need to\n",
        "do is grab an instance’s feature vector, reshape it to a 28 × 28 array, and display it\n",
        "using Matplotlib’s imshow() function:"
      ]
    },
    {
      "cell_type": "code",
      "metadata": {
        "id": "oTRYJsLR8qce",
        "colab": {
          "base_uri": "https://localhost:8080/",
          "height": 248
        },
        "outputId": "cd1c5ed7-77c7-4157-d426-b15eb61cdcd2"
      },
      "source": [
        "import matplotlib as mpl\n",
        "import matplotlib.pyplot as plt\n",
        "\n",
        "some_digit = X[0]\n",
        "some_digit_image = some_digit.reshape(28, 28)\n",
        "\n",
        "plt.imshow(some_digit_image, cmap='binary')\n",
        "plt.axis('off')\n",
        "plt.show()"
      ],
      "execution_count": null,
      "outputs": [
        {
          "output_type": "display_data",
          "data": {
            "image/png": "[encoded data removed]",
            "text/plain": [
              "<Figure size 432x288 with 1 Axes>"
            ]
          },
          "metadata": {
            "tags": [],
            "needs_background": "light"
          }
        }
      ]
    },
    {
      "cell_type": "code",
      "metadata": {
        "id": "oDZ8RDEccNKc",
        "colab": {
          "base_uri": "https://localhost:8080/",
          "height": 34
        },
        "outputId": "516bf2c7-9e1e-4dfd-a486-8e19529cfd51"
      },
      "source": [
        "some_digit.shape"
      ],
      "execution_count": null,
      "outputs": [
        {
          "output_type": "execute_result",
          "data": {
            "text/plain": [
              "(784,)"
            ]
          },
          "metadata": {
            "tags": []
          },
          "execution_count": 8
        }
      ]
    },
    {
      "cell_type": "code",
      "metadata": {
        "id": "zhLGVa1a9Ezl",
        "colab": {
          "base_uri": "https://localhost:8080/",
          "height": 34
        },
        "outputId": "3e75e28b-f521-44af-9213-76035cf1762c"
      },
      "source": [
        "y[0]"
      ],
      "execution_count": null,
      "outputs": [
        {
          "output_type": "execute_result",
          "data": {
            "text/plain": [
              "'5'"
            ]
          },
          "metadata": {
            "tags": []
          },
          "execution_count": 9
        }
      ]
    },
    {
      "cell_type": "markdown",
      "metadata": {
        "id": "mewGX2yO9Iof"
      },
      "source": [
        "Note that the label is string. Most ML algorithms expect numbers, so let's cast y to integer:"
      ]
    },
    {
      "cell_type": "code",
      "metadata": {
        "id": "zgNyuniu9Q72"
      },
      "source": [
        "y = y.astype(np.uint8)"
      ],
      "execution_count": null,
      "outputs": []
    },
    {
      "cell_type": "code",
      "metadata": {
        "id": "ILk2NQpP-HVh"
      },
      "source": [
        "def plot_digit(data):\n",
        "  image = data.reshape(28, 28)\n",
        "  plt.imshow(image, cmap=mpl.cm.binary, interpolation='nearest')\n",
        "  plt.axis('off')"
      ],
      "execution_count": null,
      "outputs": []
    },
    {
      "cell_type": "code",
      "metadata": {
        "id": "N3ruY4cGcgyA"
      },
      "source": [
        "#EXTRA\n",
        "def plot_digits(instances, images_per_row = 10, **options):\n",
        "  size = 28\n",
        "  images_per_row = min(len(instances), images_per_row)\n",
        "  images = [instance.reshape(size, size) for instance in instances]\n",
        "  n_rows = (len(instances) - 1) // images_per_row + 1\n",
        "  row_images = []\n",
        "  n_empty = n_rows * images_per_row - len(instances)\n",
        "  images.append(np.zeros((size, size * n_empty)))\n",
        "  for row in range(n_rows):\n",
        "    rimages = images[row * images_per_row : (row + 1) * images_per_row]\n",
        "    row_images.append(np.concatenate(rimages, axis = 1))\n",
        "  image = np.concatenate(row_images, axis = 0)\n",
        "  plt.imshow(image, cmap = mpl.cm.binary, **options)\n",
        "  plt.axis('off')"
      ],
      "execution_count": null,
      "outputs": []
    },
    {
      "cell_type": "code",
      "metadata": {
        "id": "h-AfnFGQc9h5",
        "colab": {
          "base_uri": "https://localhost:8080/",
          "height": 520
        },
        "outputId": "b5df26b3-3cad-4a0b-80bb-7047aea8009e"
      },
      "source": [
        "plt.figure(figsize=(9,9))\n",
        "example_images = X[:100]\n",
        "plot_digits(example_images, images_per_row = 10)\n",
        "plt.show()"
      ],
      "execution_count": null,
      "outputs": [
        {
          "output_type": "display_data",
          "data": {
            "image/png": "[encoded data removed]",
            "text/plain": [
              "<Figure size 648x648 with 1 Axes>"
            ]
          },
          "metadata": {
            "tags": [],
            "needs_background": "light"
          }
        }
      ]
    },
    {
      "cell_type": "markdown",
      "metadata": {
        "id": "IisM_1XJdTCu"
      },
      "source": [
        "You should always create a test set and set it aside before inspecting the data\n",
        "closely. The MNIST dataset is actually already split into a training set (the first 60,000\n",
        "images) and a test set (the last 10,000 images):"
      ]
    },
    {
      "cell_type": "code",
      "metadata": {
        "id": "sJhmIvp-dQ8W"
      },
      "source": [
        "X_train, X_test, y_train, y_test = X[:60000], X[60000:], y[:60000], y[60000:]"
      ],
      "execution_count": null,
      "outputs": []
    },
    {
      "cell_type": "code",
      "metadata": {
        "id": "zm-recvzq0zJ",
        "colab": {
          "base_uri": "https://localhost:8080/",
          "height": 85
        },
        "outputId": "6fb0a48f-7bf0-438c-c8dd-30fc534f139c"
      },
      "source": [
        "print('Training data: ', X_train.shape)\n",
        "print('Training label data: ', y_train.shape)\n",
        "print('Test data: ', X_test.shape)\n",
        "print('Test label data: ', y_test.shape)"
      ],
      "execution_count": null,
      "outputs": [
        {
          "output_type": "stream",
          "text": [
            "Training data:  (60000, 784)\n",
            "Training label data:  (60000,)\n",
            "Test data:  (10000, 784)\n",
            "Test label data:  (10000,)\n"
          ],
          "name": "stdout"
        }
      ]
    },
    {
      "cell_type": "markdown",
      "metadata": {
        "id": "QfSRoyohtEPU"
      },
      "source": [
        "The training set is already shuffled for us, which is good because this guarantees that\n",
        "all cross-validation folds will be similar (you don’t want one fold to be missing some\n",
        "digits). Moreover, some learning algorithms are sensitive to the order of the training\n",
        "instances, and they perform poorly if they get many similar instances in a row. Shuffling\n",
        "the dataset ensures that this won’t happen."
      ]
    },
    {
      "cell_type": "markdown",
      "metadata": {
        "id": "9Je_FQlrvAtU"
      },
      "source": [
        "# **Training a Binary Classifier**\n",
        "\n",
        "Let’s simplify the problem for now and only try to identify one digit—for example,\n",
        "the number 5. This “5-detector” will be an example of a binary classifier, capable of\n",
        "distinguishing between just two classes, 5 and not-5."
      ]
    },
    {
      "cell_type": "code",
      "metadata": {
        "id": "aQbCLnV8tGv3"
      },
      "source": [
        "y_train_5 = (y_train == 5) #True for all 5s, False for all other digits\n",
        "y_test_5 = (y_test == 5)"
      ],
      "execution_count": null,
      "outputs": []
    },
    {
      "cell_type": "markdown",
      "metadata": {
        "id": "KpYYLbYcvciG"
      },
      "source": [
        "Now let’s pick a classifier and train it. A good place to start is with a Stochastic Gradient\n",
        "Descent (SGD) classifier, using Scikit-Learn’s SGDClassifier class. This classifier\n",
        "has the advantage of being capable of handling very large datasets efficiently. This is\n",
        "in part because SGD deals with training instances independently, one at a time."
      ]
    },
    {
      "cell_type": "code",
      "metadata": {
        "id": "Bih2p1lmvrFR",
        "colab": {
          "base_uri": "https://localhost:8080/",
          "height": 119
        },
        "outputId": "3cb0b1a8-2573-4412-b78d-d47c32383df5"
      },
      "source": [
        "from sklearn.linear_model import SGDClassifier\n",
        "\n",
        "sgd_clf = SGDClassifier(random_state = 42)\n",
        "sgd_clf.fit(X_train, y_train_5)"
      ],
      "execution_count": null,
      "outputs": [
        {
          "output_type": "execute_result",
          "data": {
            "text/plain": [
              "SGDClassifier(alpha=0.0001, average=False, class_weight=None,\n",
              "              early_stopping=False, epsilon=0.1, eta0=0.0, fit_intercept=True,\n",
              "              l1_ratio=0.15, learning_rate='optimal', loss='hinge',\n",
              "              max_iter=1000, n_iter_no_change=5, n_jobs=None, penalty='l2',\n",
              "              power_t=0.5, random_state=42, shuffle=True, tol=0.001,\n",
              "              validation_fraction=0.1, verbose=0, warm_start=False)"
            ]
          },
          "metadata": {
            "tags": []
          },
          "execution_count": 17
        }
      ]
    },
    {
      "cell_type": "code",
      "metadata": {
        "id": "fhdFYdvSwTei",
        "colab": {
          "base_uri": "https://localhost:8080/",
          "height": 34
        },
        "outputId": "28878c73-c549-4908-d2d1-76469d220845"
      },
      "source": [
        "#Now you can use it to detect images of the number 5:\n",
        "sgd_clf.predict([some_digit])"
      ],
      "execution_count": null,
      "outputs": [
        {
          "output_type": "execute_result",
          "data": {
            "text/plain": [
              "array([ True])"
            ]
          },
          "metadata": {
            "tags": []
          },
          "execution_count": 18
        }
      ]
    },
    {
      "cell_type": "markdown",
      "metadata": {
        "id": "VJ9xn7cXwjOp"
      },
      "source": [
        "The classifier guesses that this image represents a 5 (True). Looks like it guesseed right in this case. Now let's evaluate this model's performance."
      ]
    },
    {
      "cell_type": "markdown",
      "metadata": {
        "id": "OYCezfmdxED_"
      },
      "source": [
        "# **Performance Measures**\n",
        "\n",
        "**Measuring Accuracy using Cross-Validation**"
      ]
    },
    {
      "cell_type": "markdown",
      "metadata": {
        "id": "N-yYxkSito_u"
      },
      "source": [
        "Occasionally you will need more control over the cross-validation process than what\n",
        "Scikit-Learn provides off the shelf. In these cases, you can implement cross-validation\n",
        "yourself. The following code does roughly the same thing as Scikit-Learn’s\n",
        "cross_val_score() function, and it prints the same result:"
      ]
    },
    {
      "cell_type": "code",
      "metadata": {
        "id": "9oW56A7ywflD",
        "colab": {
          "base_uri": "https://localhost:8080/",
          "height": 122
        },
        "outputId": "2a8f910e-b76d-4a1e-b062-ff525ae09491"
      },
      "source": [
        "from sklearn.model_selection import StratifiedKFold\n",
        "from sklearn.base import clone\n",
        "\n",
        "skfolds = StratifiedKFold(n_splits = 3, random_state = 42)\n",
        "\n",
        "for train_index, test_index in skfolds.split(X_train, y_train_5):\n",
        "  clone_clf = clone(sgd_clf)\n",
        "  X_train_folds = X_train[train_index]\n",
        "  y_train_folds = y_train_5[train_index]\n",
        "  X_test_fold = X_train[test_index]\n",
        "  y_test_fold = y_train_5[test_index]\n",
        "\n",
        "  clone_clf.fit(X_train_folds, y_train_folds)\n",
        "  y_pred = clone_clf.predict(X_test_fold)\n",
        "  n_correct = sum(y_pred == y_test_fold)\n",
        "  print(n_correct/len(y_pred))"
      ],
      "execution_count": null,
      "outputs": [
        {
          "output_type": "stream",
          "text": [
            "/usr/local/lib/python3.6/dist-packages/sklearn/model_selection/_split.py:296: FutureWarning: Setting a random_state has no effect since shuffle is False. This will raise an error in 0.24. You should leave random_state to its default (None), or set shuffle=True.\n",
            "  FutureWarning\n"
          ],
          "name": "stderr"
        },
        {
          "output_type": "stream",
          "text": [
            "0.95035\n",
            "0.96035\n",
            "0.9604\n"
          ],
          "name": "stdout"
        }
      ]
    },
    {
      "cell_type": "markdown",
      "metadata": {
        "id": "XZZKPr3ov14F"
      },
      "source": [
        "At each iteration the code creates a clone of the classifier, trains that clone on the training folds, and makes predictions on the test fold. Then it counts the number of correct predictions and outputs the ratio of correct predictions."
      ]
    },
    {
      "cell_type": "code",
      "metadata": {
        "id": "rFromdmgwg0g",
        "colab": {
          "base_uri": "https://localhost:8080/",
          "height": 51
        },
        "outputId": "fd5fcdd3-9f64-4fc0-b5eb-05b74d9e6472"
      },
      "source": [
        "#Out of 60,000, train_index will get 2/3 and test will be 1/3. The folds will keep shifting until the condition is satisfied\n",
        "print(train_index.shape)\n",
        "print(test_index.shape)"
      ],
      "execution_count": null,
      "outputs": [
        {
          "output_type": "stream",
          "text": [
            "(40000,)\n",
            "(20000,)\n"
          ],
          "name": "stdout"
        }
      ]
    },
    {
      "cell_type": "code",
      "metadata": {
        "id": "3HL4OuUSwhQO",
        "colab": {
          "base_uri": "https://localhost:8080/",
          "height": 34
        },
        "outputId": "a484d331-f211-4a00-f3a5-55548590adfa"
      },
      "source": [
        "X_train_folds.shape"
      ],
      "execution_count": null,
      "outputs": [
        {
          "output_type": "execute_result",
          "data": {
            "text/plain": [
              "(40000, 784)"
            ]
          },
          "metadata": {
            "tags": []
          },
          "execution_count": 21
        }
      ]
    },
    {
      "cell_type": "code",
      "metadata": {
        "id": "VZythQmdwhjQ",
        "colab": {
          "base_uri": "https://localhost:8080/",
          "height": 34
        },
        "outputId": "97ab7675-10c1-483d-c8be-87b108d79c61"
      },
      "source": [
        "#Let's use the *cross_val_score()* function to evaluate our SGDClassifier model using K fold cv with 3 folds.\n",
        "#Remember that K-folds cross-validation means splitting the training set into K folds, then making predictions and evaluating them on each fold using a model trained on the remaining folds.\n",
        "\n",
        "from sklearn.model_selection import cross_val_score\n",
        "cross_val_score(sgd_clf, X_train, y_train_5, cv = 3, scoring = 'accuracy')"
      ],
      "execution_count": null,
      "outputs": [
        {
          "output_type": "execute_result",
          "data": {
            "text/plain": [
              "array([0.95035, 0.96035, 0.9604 ])"
            ]
          },
          "metadata": {
            "tags": []
          },
          "execution_count": 22
        }
      ]
    },
    {
      "cell_type": "markdown",
      "metadata": {
        "id": "q0LzHGwV2lMA"
      },
      "source": [
        "It gives above 95% accuracy on all cross-validation folds. \n",
        "\n",
        "Now, let's look at a classifier that just classifies  every single image in the 'not-5' class:"
      ]
    },
    {
      "cell_type": "code",
      "metadata": {
        "id": "VWeOiDkiwh2m"
      },
      "source": [
        "from sklearn.base import BaseEstimator\n",
        "\n",
        "class Never5Classifier(BaseEstimator):\n",
        "\n",
        "  def fit(self, X, y = None):\n",
        "    return self\n",
        "  def predict(self, X):\n",
        "    return np.zeros((len(X), 1), dtype = bool)"
      ],
      "execution_count": null,
      "outputs": []
    },
    {
      "cell_type": "code",
      "metadata": {
        "id": "cHVEfWg1wfzF",
        "colab": {
          "base_uri": "https://localhost:8080/",
          "height": 34
        },
        "outputId": "d97cd467-55c9-4389-ea19-3a374edf212e"
      },
      "source": [
        "never_5_clf = Never5Classifier()\n",
        "cross_val_score(never_5_clf, X_train, y_train_5, cv = 3, scoring = \"accuracy\")"
      ],
      "execution_count": null,
      "outputs": [
        {
          "output_type": "execute_result",
          "data": {
            "text/plain": [
              "array([0.91125, 0.90855, 0.90915])"
            ]
          },
          "metadata": {
            "tags": []
          },
          "execution_count": 24
        }
      ]
    },
    {
      "cell_type": "markdown",
      "metadata": {
        "id": "Rw3zmdvKtnKK"
      },
      "source": [
        "That’s right, it has over 90% accuracy! This is simply because only about 10% of the\n",
        "images are 5s, so if you always guess that an image is not a 5, you will be right about\n",
        "90% of the time. Beats Nostradamus.\n",
        "This demonstrates why accuracy is generally not the preferred performance measure\n",
        "for classifiers, especially when you are dealing with skewed datasets (i.e., when some\n",
        "classes are much more frequent than others)."
      ]
    },
    {
      "cell_type": "markdown",
      "metadata": {
        "id": "EP8Y2Got3haT"
      },
      "source": [
        "# **Confusion Matrix:**\n",
        "\n",
        "A much better way to evaluate the performance of a classifier is to look at the confusion\n",
        "matrix. The general idea is to count the number of times instances of class A are\n",
        "classified as class B. For example, to know the number of times the classifier confused\n",
        "images of 5s with 3s, you would look in the fifth row and third column of the confusion\n",
        "matrix.\n",
        "To compute the confusion matrix, you first need to have a set of predictions so that\n",
        "they can be compared to the actual targets. You could make predictions on the test\n",
        "set, but let’s keep it untouched for now (remember that you want to use the test set\n",
        "only at the very end of your project, once you have a classifier that you are ready to\n",
        "launch). Instead, you can use the cross_val_predict() function:"
      ]
    },
    {
      "cell_type": "code",
      "metadata": {
        "id": "0wbvBa-a54Uo"
      },
      "source": [
        "from sklearn.model_selection import cross_val_predict\n",
        "\n",
        "y_train_pred = cross_val_predict(sgd_clf, X_train, y_train_5, cv = 3)"
      ],
      "execution_count": null,
      "outputs": []
    },
    {
      "cell_type": "markdown",
      "metadata": {
        "id": "wQZswQpI6IJL"
      },
      "source": [
        "Just like the cross_val_score() function, cross_val_predict() performs K-fold\n",
        "cross-validation, but instead of returning the evaluation scores, it returns the predictions\n",
        "made on each test fold. This means that you get a clean prediction for each\n",
        "instance in the training set (“clean” meaning that the prediction is made by a model\n",
        "that never saw the data during training).\n",
        "Now you are ready to get the confusion matrix using the confusion_matrix() function.\n",
        "Just pass it the target classes (y_train_5) and the predicted classes\n",
        "(y_train_pred):"
      ]
    },
    {
      "cell_type": "code",
      "metadata": {
        "id": "JsvAe9wF6L6v",
        "colab": {
          "base_uri": "https://localhost:8080/",
          "height": 51
        },
        "outputId": "da135643-94f8-4979-a655-1cc3c69e2c48"
      },
      "source": [
        "from sklearn.metrics import confusion_matrix\n",
        "\n",
        "confusion_matrix(y_train_5, y_train_pred)"
      ],
      "execution_count": null,
      "outputs": [
        {
          "output_type": "execute_result",
          "data": {
            "text/plain": [
              "array([[53892,   687],\n",
              "       [ 1891,  3530]])"
            ]
          },
          "metadata": {
            "tags": []
          },
          "execution_count": 26
        }
      ]
    },
    {
      "cell_type": "markdown",
      "metadata": {
        "id": "BduwebJQ6tuu"
      },
      "source": [
        "\n",
        "Each row in a confusion matrix represents an actual class, while each column represents\n",
        "a predicted class. The first row of this matrix considers non-5 images (the negative\n",
        "class): 53,892 of them were correctly classified as non-5s (they are called true\n",
        "negatives), while the remaining 687 were wrongly classified as 5s (false positives).\n",
        "The second row considers the images of 5s (the positive class): 1,891 were wrongly\n",
        "classified as non-5s (false negatives), while the remaining 3,530 were correctly classified\n",
        "as 5s (true positives). A perfect classifier would have only true positives and true\n",
        "negatives, so its confusion matrix would have nonzero values only on its main diagonal\n",
        "(top left to bottom right):\n"
      ]
    },
    {
      "cell_type": "code",
      "metadata": {
        "id": "-NPl2KdW6_bk",
        "colab": {
          "base_uri": "https://localhost:8080/",
          "height": 51
        },
        "outputId": "95d49712-ffca-4640-c758-24266e8d57b4"
      },
      "source": [
        "y_train_perfect_predictions = y_train_5\n",
        "confusion_matrix(y_train_perfect_predictions, y_train_5)"
      ],
      "execution_count": null,
      "outputs": [
        {
          "output_type": "execute_result",
          "data": {
            "text/plain": [
              "array([[54579,     0],\n",
              "       [    0,  5421]])"
            ]
          },
          "metadata": {
            "tags": []
          },
          "execution_count": 27
        }
      ]
    },
    {
      "cell_type": "markdown",
      "metadata": {
        "id": "U9nsxNMbdubL"
      },
      "source": [
        "**Precision and Recall**\n",
        "\n",
        "The accuracy of the positive predictions;\n",
        "this is called the precision of the classifier\n",
        "\n",
        "Precision = TP/(TP + FP)\n",
        "\n",
        "Recall is the ratio of positive instances that are correctly detected by the classifier.\n",
        "\n",
        "Recall = TP/(TP + FN)"
      ]
    },
    {
      "cell_type": "code",
      "metadata": {
        "id": "6GRkEH21eRBH",
        "colab": {
          "base_uri": "https://localhost:8080/",
          "height": 34
        },
        "outputId": "e77e9850-973a-4858-8ab6-029ce17d0a49"
      },
      "source": [
        "from sklearn.metrics import precision_score, recall_score\n",
        "precision_score(y_train_5, y_train_pred) # 3530/(637 + 3530)"
      ],
      "execution_count": null,
      "outputs": [
        {
          "output_type": "execute_result",
          "data": {
            "text/plain": [
              "0.8370879772350012"
            ]
          },
          "metadata": {
            "tags": []
          },
          "execution_count": 28
        }
      ]
    },
    {
      "cell_type": "code",
      "metadata": {
        "id": "R8Nmu03_enJD",
        "colab": {
          "base_uri": "https://localhost:8080/",
          "height": 34
        },
        "outputId": "56a0782a-dd3d-4500-9ee5-87bdf30f6bee"
      },
      "source": [
        "recall_score(y_train_5, y_train_pred) # 3530/(3530 + 1891)"
      ],
      "execution_count": null,
      "outputs": [
        {
          "output_type": "execute_result",
          "data": {
            "text/plain": [
              "0.6511713705958311"
            ]
          },
          "metadata": {
            "tags": []
          },
          "execution_count": 29
        }
      ]
    },
    {
      "cell_type": "markdown",
      "metadata": {
        "id": "vpJ7Jk_he9tM"
      },
      "source": [
        "Now your 5-detector does not look as shiny as it did when you looked at its accuracy.\n",
        "When it claims an image represents a 5, it is correct only 83.7% of the time. Moreover,\n",
        "it only detects 65.11% of the 5s."
      ]
    },
    {
      "cell_type": "markdown",
      "metadata": {
        "id": "AWDrDm7Ggsyg"
      },
      "source": [
        "It is often convenient to combine precision and recall into a single metric called the F1\n",
        "score, in particular if you need a simple way to compare two classifiers. The F1 score is\n",
        "the harmonic mean of precision and recall.\n",
        "\n",
        "Whereas the regular mean\n",
        "treats all values equally, the harmonic mean gives much more weight to low values.\n",
        "As a result, the classifier will only get a high F1 score if both recall and precision are\n",
        "high."
      ]
    },
    {
      "cell_type": "code",
      "metadata": {
        "id": "gvLlzGTMg2Vd",
        "colab": {
          "base_uri": "https://localhost:8080/",
          "height": 34
        },
        "outputId": "fadfcef0-ede9-4b53-dc9b-7da21a9a66ad"
      },
      "source": [
        "from sklearn.metrics import f1_score\n",
        "f1_score(y_train_5, y_train_pred)"
      ],
      "execution_count": null,
      "outputs": [
        {
          "output_type": "execute_result",
          "data": {
            "text/plain": [
              "0.7325171197343846"
            ]
          },
          "metadata": {
            "tags": []
          },
          "execution_count": 31
        }
      ]
    },
    {
      "cell_type": "markdown",
      "metadata": {
        "id": "HBFk9WwTkWPN"
      },
      "source": [
        "The F1 score favors classifiers that have similar precision and recall. This is not always\n",
        "what you want: in some contexts you mostly care about precision, and in other contexts\n",
        "you really care about recall. For example, if you trained a classifier to detect videos\n",
        "that are safe for kids, you would probably prefer a classifier that rejects many\n",
        "good videos (low recall) but keeps only safe ones (high precision), rather than a classifier\n",
        "that has a much higher recall but lets a few really bad videos show up in your\n",
        "product (in such cases, you may even want to add a human pipeline to check the classifier’s\n",
        "video selection). On the other hand, suppose you train a classifier to detect\n",
        "shoplifters in surveillance images: it is probably fine if your classifier has only 30%\n",
        "precision as long as it has 99% recall (sure, the security guards will get a few false\n",
        "alerts, but almost all shoplifters will get caught).\n",
        "Unfortunately, you can’t have it both ways: increasing precision reduces recall, and\n",
        "vice versa. This is called the precision/recall trade-off."
      ]
    },
    {
      "cell_type": "code",
      "metadata": {
        "id": "PTRInN5EluUg",
        "colab": {
          "base_uri": "https://localhost:8080/",
          "height": 34
        },
        "outputId": "e5b245cf-9aeb-43e3-b7b5-46973e1d926d"
      },
      "source": [
        "y_scores = sgd_clf.decision_function([some_digit])\n",
        "y_scores"
      ],
      "execution_count": null,
      "outputs": [
        {
          "output_type": "execute_result",
          "data": {
            "text/plain": [
              "array([2164.22030239])"
            ]
          },
          "metadata": {
            "tags": []
          },
          "execution_count": 32
        }
      ]
    },
    {
      "cell_type": "code",
      "metadata": {
        "id": "kt98WGAIl17X",
        "colab": {
          "base_uri": "https://localhost:8080/",
          "height": 34
        },
        "outputId": "f3f437bb-3f1b-4705-d667-2097f9f32e81"
      },
      "source": [
        "threshold = 0\n",
        "y_some_digit_pred = (y_scores > threshold)\n",
        "y_some_digit_pred"
      ],
      "execution_count": null,
      "outputs": [
        {
          "output_type": "execute_result",
          "data": {
            "text/plain": [
              "array([ True])"
            ]
          },
          "metadata": {
            "tags": []
          },
          "execution_count": 34
        }
      ]
    },
    {
      "cell_type": "markdown",
      "metadata": {
        "id": "T_tDeK5nmJ4l"
      },
      "source": [
        "The SGDClassifier uses a threshold equal to 0, so the previous code returns the same\n",
        "result as the predict() method (i.e., True). Let’s raise the threshold:"
      ]
    },
    {
      "cell_type": "code",
      "metadata": {
        "id": "WP8L0N9_mLh6",
        "colab": {
          "base_uri": "https://localhost:8080/",
          "height": 34
        },
        "outputId": "a6c11964-7b56-40f9-a3fa-53fc99e9bfe6"
      },
      "source": [
        "threshold = 8000\n",
        "y_some_digit_pred = (y_scores > threshold)\n",
        "y_some_digit_pred"
      ],
      "execution_count": null,
      "outputs": [
        {
          "output_type": "execute_result",
          "data": {
            "text/plain": [
              "array([False])"
            ]
          },
          "metadata": {
            "tags": []
          },
          "execution_count": 35
        }
      ]
    },
    {
      "cell_type": "markdown",
      "metadata": {
        "id": "_itO84WymcmF"
      },
      "source": [
        "This confirms that raising the threshold decreases recall. The image actually represents\n",
        "a 5, and the classifier detects it when the threshold is 0, but it misses it when the\n",
        "threshold is increased to 8,000.\n",
        "\n",
        "\n",
        "How do you decide which threshold to use? First, use the cross_val_predict()\n",
        "function to get the scores of all instances in the training set, but this time specify that\n",
        "you want to return decision scores instead of predictions:\n"
      ]
    },
    {
      "cell_type": "code",
      "metadata": {
        "id": "MF98nc_tmkYq"
      },
      "source": [
        "y_scores = cross_val_predict(sgd_clf, X_train, y_train_5, cv = 3,\n",
        "                             method = 'decision_function')"
      ],
      "execution_count": null,
      "outputs": []
    },
    {
      "cell_type": "code",
      "metadata": {
        "id": "wnaPojPUm05O"
      },
      "source": [
        "from sklearn.metrics import precision_recall_curve\n",
        "\n",
        "precisions, recalls, thresholds = precision_recall_curve(y_train_5, y_scores)"
      ],
      "execution_count": null,
      "outputs": []
    },
    {
      "cell_type": "code",
      "metadata": {
        "id": "_17JuKE_nCaa",
        "colab": {
          "base_uri": "https://localhost:8080/",
          "height": 292
        },
        "outputId": "a304c9a0-df76-447f-a7b2-16466316ce7c"
      },
      "source": [
        "def plot_precision_recall_vs_threshold(precisions, recalls, thresholds):\n",
        "    plt.plot(thresholds, precisions[:-1], \"b--\", label=\"Precision\", linewidth=2)\n",
        "    plt.plot(thresholds, recalls[:-1], \"g-\", label=\"Recall\", linewidth=2)\n",
        "    plt.legend(loc=\"center right\", fontsize=16) # Not shown in the book\n",
        "    plt.xlabel(\"Threshold\", fontsize=16)        # Not shown\n",
        "    plt.grid(True)                              # Not shown\n",
        "    plt.axis([-50000, 50000, 0, 1])             # Not shown\n",
        "\n",
        "\n",
        "\n",
        "recall_90_precision = recalls[np.argmax(precisions >= 0.90)]\n",
        "threshold_90_precision = thresholds[np.argmax(precisions >= 0.90)]\n",
        "\n",
        "\n",
        "plt.figure(figsize=(8, 4))                                                                  # Not shown\n",
        "plot_precision_recall_vs_threshold(precisions, recalls, thresholds)\n",
        "plt.plot([threshold_90_precision, threshold_90_precision], [0., 0.9], \"r:\")                 # Not shown\n",
        "plt.plot([-50000, threshold_90_precision], [0.9, 0.9], \"r:\")                                # Not shown\n",
        "plt.plot([-50000, threshold_90_precision], [recall_90_precision, recall_90_precision], \"r:\")# Not shown\n",
        "plt.plot([threshold_90_precision], [0.9], \"ro\")                                             # Not shown\n",
        "plt.plot([threshold_90_precision], [recall_90_precision], \"ro\")                                             # Not shown\n",
        "plt.show()"
      ],
      "execution_count": null,
      "outputs": [
        {
          "output_type": "display_data",
          "data": {
            "image/png": "[encoded data removed]",
            "text/plain": [
              "<Figure size 576x288 with 1 Axes>"
            ]
          },
          "metadata": {
            "tags": [],
            "needs_background": "light"
          }
        }
      ]
    },
    {
      "cell_type": "markdown",
      "metadata": {
        "id": "dIYUpDOfptYB"
      },
      "source": [
        "Another way to select a good precision/recall trade-off is to plot precision directly\n",
        "against recall."
      ]
    },
    {
      "cell_type": "code",
      "metadata": {
        "id": "HDQx6ko6pvYi",
        "colab": {
          "base_uri": "https://localhost:8080/",
          "height": 401
        },
        "outputId": "d4e3939d-7ab5-43f7-a760-44c232ccc273"
      },
      "source": [
        "def plot_precision_vs_recall(precisions, recalls):\n",
        "  plt.plot(recalls, precisions, 'b-', linewidth = 2)\n",
        "  plt.xlabel('Recall', fontsize = 16)\n",
        "  plt.ylabel('Precision', fontsize = 12)\n",
        "  plt.axis([0,1,0,1])\n",
        "  plt.grid(True)\n",
        "\n",
        "plt.figure(figsize = (8, 6))\n",
        "plot_precision_vs_recall(precisions, recalls)\n",
        "plt.plot([0.4368, 0.4368], [0, 0.91], \"r:\")\n",
        "plt.plot([0.0, 0.4368], [0.91, 0.91], \"r:\")\n",
        "plt.plot([0.4368], [0.91], \"ro\")\n",
        "plt.show()"
      ],
      "execution_count": null,
      "outputs": [
        {
          "output_type": "display_data",
          "data": {
            "image/png": "[encoded data removed]",
            "text/plain": [
              "<Figure size 576x432 with 1 Axes>"
            ]
          },
          "metadata": {
            "tags": [],
            "needs_background": "light"
          }
        }
      ]
    },
    {
      "cell_type": "markdown",
      "metadata": {
        "id": "Ze7bJkzMq9TJ"
      },
      "source": [
        "You can see that precision really starts to fall sharply around 80% recall. You will\n",
        "probably want to select a precision/recall trade-off just before that drop—for example,\n",
        "at around 60% recall. But of course, the choice depends on your project.\n",
        "\n",
        "Suppose you decide to aim for 90% precision. You look up the first plot and find that\n",
        "you need to use a threshold of about 8,000. To be more precise you can search for the\n",
        "lowest threshold that gives you at least 90% precision (np.argmax() will give you the\n",
        "first index of the maximum value, which in this case means the first True value):"
      ]
    },
    {
      "cell_type": "code",
      "metadata": {
        "id": "xglL81ubrGt_",
        "colab": {
          "base_uri": "https://localhost:8080/",
          "height": 34
        },
        "outputId": "31be51f8-7673-454b-fec6-037ccedb96db"
      },
      "source": [
        "threshold_90_precision = thresholds[np.argmax(precisions >= 0.90)]\n",
        "threshold_90_precision"
      ],
      "execution_count": null,
      "outputs": [
        {
          "output_type": "execute_result",
          "data": {
            "text/plain": [
              "3370.0194991439557"
            ]
          },
          "metadata": {
            "tags": []
          },
          "execution_count": 51
        }
      ]
    },
    {
      "cell_type": "code",
      "metadata": {
        "id": "WLngJInqrVpk"
      },
      "source": [
        "#To make predicitions on the training set\n",
        "y_train_pred_90 = (y_scores >= threshold_90_precision)"
      ],
      "execution_count": null,
      "outputs": []
    },
    {
      "cell_type": "code",
      "metadata": {
        "id": "CHsoNQChrhoV",
        "colab": {
          "base_uri": "https://localhost:8080/",
          "height": 34
        },
        "outputId": "cbd378b6-1b74-4de9-86bc-62c194116f4e"
      },
      "source": [
        "precision_score(y_train_5, y_train_pred_90)"
      ],
      "execution_count": null,
      "outputs": [
        {
          "output_type": "execute_result",
          "data": {
            "text/plain": [
              "0.9000345901072293"
            ]
          },
          "metadata": {
            "tags": []
          },
          "execution_count": 53
        }
      ]
    },
    {
      "cell_type": "code",
      "metadata": {
        "id": "3WWZn0rUrnMy",
        "colab": {
          "base_uri": "https://localhost:8080/",
          "height": 34
        },
        "outputId": "e5344315-653b-4923-c598-a12c0e64023b"
      },
      "source": [
        "recall_score(y_train_5, y_train_pred_90)"
      ],
      "execution_count": null,
      "outputs": [
        {
          "output_type": "execute_result",
          "data": {
            "text/plain": [
              "0.4799852425751706"
            ]
          },
          "metadata": {
            "tags": []
          },
          "execution_count": 54
        }
      ]
    },
    {
      "cell_type": "markdown",
      "metadata": {
        "id": "hcD6Jjmhruaj"
      },
      "source": [
        "Great, you have a 90% precision classifier! As you can see, it is fairly easy to create a\n",
        "classifier with virtually any precision you want: just set a high enough threshold, and\n",
        "you’re done. But wait, not so fast. A high-precision classifier is not very useful if its\n",
        "recall is too low!"
      ]
    },
    {
      "cell_type": "markdown",
      "metadata": {
        "id": "mxL7GRjur5yO"
      },
      "source": [
        "# **ROC Curve:**\n",
        "\n",
        "The receiver operating characteristic (ROC) curve is another common tool used with\n",
        "binary classifiers. It is very similar to the precision/recall curve, but instead of plotting\n",
        "precision versus recall, the ROC curve plots the true positive rate (another name\n",
        "for recall) against the false positive rate (FPR). The FPR is the ratio of negative instances\n",
        "that are incorrectly classified as positive. It is equal to 1 – the true negative rate\n",
        "(TNR), which is the ratio of negative instances that are correctly classified as negative.\n",
        "The TNR is also called specificity. Hence, the ROC curve plots sensitivity (recall) versus\n",
        "1 – specificity.\n"
      ]
    },
    {
      "cell_type": "code",
      "metadata": {
        "id": "LYs1p6CQrsPk"
      },
      "source": [
        "from sklearn.metrics import roc_curve\n",
        "\n",
        "fpr, tpr, thresholds = roc_curve(y_train_5, y_scores)"
      ],
      "execution_count": null,
      "outputs": []
    },
    {
      "cell_type": "code",
      "metadata": {
        "id": "1z05EnskssQG",
        "colab": {
          "base_uri": "https://localhost:8080/",
          "height": 401
        },
        "outputId": "cce1b172-d65f-4230-ea1a-675103bd6557"
      },
      "source": [
        "def plot_roc_curve(fpr, tpr, label = None):\n",
        "  plt.plot(fpr, tpr, linewidth = 2, label = label)\n",
        "  plt.plot([0,1], [0,1], 'k--') #Dashed diagonal\n",
        "  plt.axis([0,1,0,1])\n",
        "  plt.xlabel('False Positive Rate (Fall-out)', fontsize = 16)\n",
        "  plt.ylabel('True Positive Rate (Recall)', fontsize = 16)\n",
        "  plt.grid(True)\n",
        "\n",
        "plt.figure(figsize = (8, 6))\n",
        "plot_roc_curve(fpr, tpr)\n",
        "plt.plot([4.837e-3, 4.837e-3], [0, 0.4368], \"r:\")\n",
        "plt.plot([0, 4.837e-3], [0.4368, 0.4368], \"r:\")\n",
        "plt.plot([4.837e-3], [0.4368], \"ro\")\n",
        "plt.show()"
      ],
      "execution_count": null,
      "outputs": [
        {
          "output_type": "display_data",
          "data": {
            "image/png": "[encoded data removed]",
            "text/plain": [
              "<Figure size 576x432 with 1 Axes>"
            ]
          },
          "metadata": {
            "tags": [],
            "needs_background": "light"
          }
        }
      ]
    },
    {
      "cell_type": "markdown",
      "metadata": {
        "id": "-rgEtUeut51W"
      },
      "source": [
        "Once again there is a trade-off: the higher the recall (TPR), the more false positives\n",
        "(FPR) the classifier produces. The dotted line represents the ROC curve of a purely\n",
        "random classifier; a good classifier stays as far away from that line as possible (toward\n",
        "the top-left corner)."
      ]
    },
    {
      "cell_type": "markdown",
      "metadata": {
        "id": "XggeloYHuGrB"
      },
      "source": [
        "One way to compare classifiers is to measure the area under the curve (AUC). A perfect\n",
        "classifier will have a ROC AUC equal to 1, whereas a purely random classifier will\n",
        "have a ROC AUC equal to 0.5."
      ]
    },
    {
      "cell_type": "code",
      "metadata": {
        "id": "nhhL2iv1uH0C",
        "colab": {
          "base_uri": "https://localhost:8080/",
          "height": 34
        },
        "outputId": "df5e7fdb-1055-435c-f724-27988c12948c"
      },
      "source": [
        "from sklearn.metrics import roc_auc_score\n",
        "roc_auc_score(y_train_5, y_scores)"
      ],
      "execution_count": null,
      "outputs": [
        {
          "output_type": "execute_result",
          "data": {
            "text/plain": [
              "0.9604938554008616"
            ]
          },
          "metadata": {
            "tags": []
          },
          "execution_count": 57
        }
      ]
    },
    {
      "cell_type": "markdown",
      "metadata": {
        "id": "iOYSOCQKu5ut"
      },
      "source": [
        "Let’s now train a RandomForestClassifier and compare its ROC curve and ROC\n",
        "AUC score to those of the SGDClassifier. First, you need to get scores for each\n",
        "instance in the training set. But due to the way it works, the Random\n",
        "ForestClassifier class does not have a decision_function() method. Instead, it\n",
        "has a predict_proba() method. Scikit-Learn classifiers generally have one or the\n",
        "other, or both. \n",
        "\n",
        "The predict_proba() method returns an array containing a row per\n",
        "instance and a column per class, each containing the probability that the given\n",
        "instance belongs to the given class (e.g., 70% chance that the image represents a 5):"
      ]
    },
    {
      "cell_type": "code",
      "metadata": {
        "id": "vE3d6uqYvKQB"
      },
      "source": [
        "from sklearn.ensemble import RandomForestClassifier\n",
        "\n",
        "forest_clf = RandomForestClassifier(random_state = 42)\n",
        "y_probas_forest = cross_val_predict(forest_clf, X_train, y_train_5, cv = 3,\n",
        "                                    method = 'predict_proba')"
      ],
      "execution_count": null,
      "outputs": []
    },
    {
      "cell_type": "code",
      "metadata": {
        "id": "3xagP00Dvy15",
        "colab": {
          "base_uri": "https://localhost:8080/",
          "height": 136
        },
        "outputId": "ef50c2b9-e71f-47ee-e19c-537721fe97bd"
      },
      "source": [
        "y_probas_forest"
      ],
      "execution_count": null,
      "outputs": [
        {
          "output_type": "execute_result",
          "data": {
            "text/plain": [
              "array([[0.11, 0.89],\n",
              "       [0.99, 0.01],\n",
              "       [0.96, 0.04],\n",
              "       ...,\n",
              "       [0.02, 0.98],\n",
              "       [0.92, 0.08],\n",
              "       [0.94, 0.06]])"
            ]
          },
          "metadata": {
            "tags": []
          },
          "execution_count": 61
        }
      ]
    },
    {
      "cell_type": "code",
      "metadata": {
        "id": "sKjGft8Yve-l"
      },
      "source": [
        "#ROC_Curve expects labels and scores, but instead of scores you can give it class probabilities.\n",
        "\n",
        "y_scores_forest = y_probas_forest[:, 1] #score = proba of positive class\n",
        "fpr_forest, tpr_forest, thresholds_forest = roc_curve(y_train_5, y_scores_forest)"
      ],
      "execution_count": null,
      "outputs": []
    },
    {
      "cell_type": "code",
      "metadata": {
        "id": "xPRB1RfzwHGM",
        "colab": {
          "base_uri": "https://localhost:8080/",
          "height": 292
        },
        "outputId": "27777e45-6212-490f-8e2b-ae7537ecaa9f"
      },
      "source": [
        "plt.plot(fpr, tpr, \"b:\", label = \"SGD\")\n",
        "plot_roc_curve(fpr_forest, tpr_forest, \"Random Forest\")\n",
        "plt.legend(loc='lower right')\n",
        "plt.plot([4.837e-3, 4.837e-3], [0., 0.4368], \"r:\")\n",
        "plt.plot([0.0, 4.837e-3], [0.4368, 0.4368], \"r:\")\n",
        "plt.plot([4.837e-3], [0.4368], \"ro\")\n",
        "plt.plot([4.837e-3, 4.837e-3], [0., 0.9487], \"r:\")\n",
        "plt.plot([4.837e-3], [0.9487], \"ro\")\n",
        "plt.grid(True)\n",
        "plt.show()"
      ],
      "execution_count": null,
      "outputs": [
        {
          "output_type": "display_data",
          "data": {
            "image/png": "[encoded data removed]",
            "text/plain": [
              "<Figure size 432x288 with 1 Axes>"
            ]
          },
          "metadata": {
            "tags": [],
            "needs_background": "light"
          }
        }
      ]
    },
    {
      "cell_type": "code",
      "metadata": {
        "id": "CEYcf0P1wkuY",
        "colab": {
          "base_uri": "https://localhost:8080/",
          "height": 34
        },
        "outputId": "d2af3416-2db3-4fc4-ad01-3cd305b3e684"
      },
      "source": [
        "roc_auc_score(y_train_5, y_scores_forest)"
      ],
      "execution_count": null,
      "outputs": [
        {
          "output_type": "execute_result",
          "data": {
            "text/plain": [
              "0.9983436731328145"
            ]
          },
          "metadata": {
            "tags": []
          },
          "execution_count": 65
        }
      ]
    },
    {
      "cell_type": "code",
      "metadata": {
        "id": "ypDZ7P_wwuHj",
        "colab": {
          "base_uri": "https://localhost:8080/",
          "height": 34
        },
        "outputId": "d2125546-3bb0-4b01-976d-e00f47a0bd28"
      },
      "source": [
        "y_train_pred_forest = cross_val_predict(forest_clf, X_train, y_train_5, cv = 3)\n",
        "precision_score(y_train_5, y_train_pred_forest)"
      ],
      "execution_count": null,
      "outputs": [
        {
          "output_type": "execute_result",
          "data": {
            "text/plain": [
              "0.9905083315756169"
            ]
          },
          "metadata": {
            "tags": []
          },
          "execution_count": 68
        }
      ]
    },
    {
      "cell_type": "code",
      "metadata": {
        "id": "5xGzqftXxDQl",
        "colab": {
          "base_uri": "https://localhost:8080/",
          "height": 34
        },
        "outputId": "62922781-8af5-4368-f84a-042759895dfc"
      },
      "source": [
        "recall_score(y_train_5, y_train_pred_forest)"
      ],
      "execution_count": null,
      "outputs": [
        {
          "output_type": "execute_result",
          "data": {
            "text/plain": [
              "0.8662608374838591"
            ]
          },
          "metadata": {
            "tags": []
          },
          "execution_count": 70
        }
      ]
    },
    {
      "cell_type": "markdown",
      "metadata": {
        "id": "X7o4ygQkxctK"
      },
      "source": [
        "You now know how to train binary classifiers, choose the appropriate metric for your\n",
        "task, evaluate your classifiers using cross-validation, select the precision/recall tradeoff\n",
        "that fits your needs, and use ROC curves and ROC AUC scores to compare various\n",
        "models. Now let’s try to detect more than just the 5s."
      ]
    },
    {
      "cell_type": "markdown",
      "metadata": {
        "id": "Th84nXaY_bnq"
      },
      "source": [
        "# **Multiclass Classification**\n",
        "\n"
      ]
    },
    {
      "cell_type": "code",
      "metadata": {
        "id": "Yg0Tv8lcAPZC",
        "colab": {
          "base_uri": "https://localhost:8080/",
          "height": 34
        },
        "outputId": "ec946a0f-8e4b-4b7a-9ee3-5930a891ed6e"
      },
      "source": [
        "from sklearn.svm import SVC\n",
        "svm_clf = SVC()\n",
        "svm_clf.fit(X_train, y_train)\n",
        "svm_clf.predict([some_digit])"
      ],
      "execution_count": null,
      "outputs": [
        {
          "output_type": "execute_result",
          "data": {
            "text/plain": [
              "array([5], dtype=uint8)"
            ]
          },
          "metadata": {
            "tags": []
          },
          "execution_count": 71
        }
      ]
    },
    {
      "cell_type": "markdown",
      "metadata": {
        "id": "H4YYQGJbAyL5"
      },
      "source": [
        "This code trains the SVC on the training set using the original target\n",
        "classes from 0 to 9 (y_train), then it makes a prediction (a correct one in this case). Under the hood,\n",
        "Scikit-Learn actually used the OvO strategy: it trained 45 binary classifiers, got their\n",
        "decision scores for the image, and selected the class that won the most duels.\n",
        "If you call the decision_function() method, you will see that it returns 10 scores\n",
        "per instance (instead of just 1). That’s one score per class:"
      ]
    },
    {
      "cell_type": "code",
      "metadata": {
        "id": "ll09-n8cA-LE",
        "colab": {
          "base_uri": "https://localhost:8080/",
          "height": 51
        },
        "outputId": "4ecf3866-1d1a-48c1-a237-72b5e77441e9"
      },
      "source": [
        "some_digit_scores = svm_clf.decision_function([some_digit])\n",
        "some_digit_scores"
      ],
      "execution_count": null,
      "outputs": [
        {
          "output_type": "execute_result",
          "data": {
            "text/plain": [
              "array([[ 1.72501977,  2.72809088,  7.2510018 ,  8.3076379 , -0.31087254,\n",
              "         9.3132482 ,  1.70975103,  2.76765202,  6.23049537,  4.84771048]])"
            ]
          },
          "metadata": {
            "tags": []
          },
          "execution_count": 72
        }
      ]
    },
    {
      "cell_type": "code",
      "metadata": {
        "id": "Ba7rR7_zDqM3",
        "colab": {
          "base_uri": "https://localhost:8080/",
          "height": 34
        },
        "outputId": "9cec1d74-8f52-4d6b-8590-be589343a91f"
      },
      "source": [
        "np.argmax(some_digit_scores)"
      ],
      "execution_count": null,
      "outputs": [
        {
          "output_type": "execute_result",
          "data": {
            "text/plain": [
              "5"
            ]
          },
          "metadata": {
            "tags": []
          },
          "execution_count": 73
        }
      ]
    },
    {
      "cell_type": "code",
      "metadata": {
        "id": "kMz8L3aMDuo0",
        "colab": {
          "base_uri": "https://localhost:8080/",
          "height": 34
        },
        "outputId": "a4b101b8-5e2c-44e0-b0c5-6246e2e6e3f2"
      },
      "source": [
        "svm_clf.classes_"
      ],
      "execution_count": null,
      "outputs": [
        {
          "output_type": "execute_result",
          "data": {
            "text/plain": [
              "array([0, 1, 2, 3, 4, 5, 6, 7, 8, 9], dtype=uint8)"
            ]
          },
          "metadata": {
            "tags": []
          },
          "execution_count": 74
        }
      ]
    },
    {
      "cell_type": "code",
      "metadata": {
        "id": "yGVx6EDqDyYQ",
        "colab": {
          "base_uri": "https://localhost:8080/",
          "height": 34
        },
        "outputId": "9b23f0bb-1c58-40b5-879e-2fb832c47db4"
      },
      "source": [
        "svm_clf.classes_[5]"
      ],
      "execution_count": null,
      "outputs": [
        {
          "output_type": "execute_result",
          "data": {
            "text/plain": [
              "5"
            ]
          },
          "metadata": {
            "tags": []
          },
          "execution_count": 75
        }
      ]
    },
    {
      "cell_type": "markdown",
      "metadata": {
        "id": "5hGwakArECdB"
      },
      "source": [
        "When a classifier is trained, it stores the list of target classes in its\n",
        "classes_ attribute, ordered by value. In this case, the index of each\n",
        "class in the classes_ array conveniently matches the class itself.\n",
        "\n",
        "If you want to force Scikit-Learn to use one-versus-one or one-versus-the-rest, you\n",
        "can use the OneVsOneClassifier or OneVsRestClassifier classes. Simply create an\n",
        "instance and pass a classifier to its constructor (it does not even have to be a binary\n",
        "classifier). For example, this code creates a multiclass classifier using the OvR strategy,\n",
        "based on an SVC:"
      ]
    },
    {
      "cell_type": "code",
      "metadata": {
        "id": "UxuY1N1kErRw",
        "colab": {
          "base_uri": "https://localhost:8080/",
          "height": 34
        },
        "outputId": "10bc61a9-a682-4da2-f1b5-a80264f07dea"
      },
      "source": [
        "from sklearn.multiclass import OneVsRestClassifier\n",
        "over_clf = OneVsRestClassifier(SVC())\n",
        "over_clf.fit(X_train, y_train)\n",
        "over_clf.predict([some_digit])"
      ],
      "execution_count": null,
      "outputs": [
        {
          "output_type": "execute_result",
          "data": {
            "text/plain": [
              "array([5], dtype=uint8)"
            ]
          },
          "metadata": {
            "tags": []
          },
          "execution_count": 76
        }
      ]
    },
    {
      "cell_type": "code",
      "metadata": {
        "id": "PTLhUNuFE5ZS",
        "colab": {
          "base_uri": "https://localhost:8080/",
          "height": 34
        },
        "outputId": "fa5b54d7-276e-4015-b464-85df4aac51fb"
      },
      "source": [
        "len(over_clf.estimators_)"
      ],
      "execution_count": null,
      "outputs": [
        {
          "output_type": "execute_result",
          "data": {
            "text/plain": [
              "10"
            ]
          },
          "metadata": {
            "tags": []
          },
          "execution_count": 78
        }
      ]
    },
    {
      "cell_type": "code",
      "metadata": {
        "id": "HmP7ohV7TMbR",
        "colab": {
          "base_uri": "https://localhost:8080/",
          "height": 34
        },
        "outputId": "79172242-1ffa-4b6f-e1e3-f0adc4b134d0"
      },
      "source": [
        "#Training an SGDClassifier is just as easy\n",
        "sgd_clf.fit(X_train, y_train)\n",
        "sgd_clf.predict([some_digit])"
      ],
      "execution_count": null,
      "outputs": [
        {
          "output_type": "execute_result",
          "data": {
            "text/plain": [
              "array([3], dtype=uint8)"
            ]
          },
          "metadata": {
            "tags": []
          },
          "execution_count": 82
        }
      ]
    },
    {
      "cell_type": "markdown",
      "metadata": {
        "id": "_-wcNMRbTdGF"
      },
      "source": [
        "This time Scikit-Learn did not have to run OvR or OvO because SGD classifiers can\n",
        "directly classify instances into multiple classes. The decision_function() method\n",
        "now returns one value per class. Let’s look at the score that the SGD classifier assigned\n",
        "to each class:"
      ]
    },
    {
      "cell_type": "code",
      "metadata": {
        "id": "9C2rWxnUTgJJ",
        "colab": {
          "base_uri": "https://localhost:8080/",
          "height": 85
        },
        "outputId": "232e7766-a59e-4a76-b789-6809f792ac14"
      },
      "source": [
        "sgd_clf.decision_function([some_digit])"
      ],
      "execution_count": null,
      "outputs": [
        {
          "output_type": "execute_result",
          "data": {
            "text/plain": [
              "array([[-31893.03095419, -34419.69069632,  -9530.63950739,\n",
              "          1823.73154031, -22320.14822878,  -1385.80478895,\n",
              "        -26188.91070951, -16147.51323997,  -4604.35491274,\n",
              "        -12050.767298  ]])"
            ]
          },
          "metadata": {
            "tags": []
          },
          "execution_count": 83
        }
      ]
    },
    {
      "cell_type": "code",
      "metadata": {
        "id": "rpzMOv4yViKg",
        "colab": {
          "base_uri": "https://localhost:8080/",
          "height": 34
        },
        "outputId": "39b9f39f-72a8-4ce0-d2a6-620af812ae5b"
      },
      "source": [
        "cross_val_score(sgd_clf, X_train, y_train, cv= 3, scoring = 'accuracy')"
      ],
      "execution_count": null,
      "outputs": [
        {
          "output_type": "execute_result",
          "data": {
            "text/plain": [
              "array([0.87365, 0.85835, 0.8689 ])"
            ]
          },
          "metadata": {
            "tags": []
          },
          "execution_count": 84
        }
      ]
    },
    {
      "cell_type": "code",
      "metadata": {
        "id": "4lYTa_OOXXkt",
        "colab": {
          "base_uri": "https://localhost:8080/",
          "height": 34
        },
        "outputId": "fa85d586-5c18-4f0e-9005-442b2f38f329"
      },
      "source": [
        "from sklearn.preprocessing import StandardScaler\n",
        "scaler = StandardScaler()\n",
        "X_train_scaled = scaler.fit_transform(X_train.astype(np.float64))\n",
        "cross_val_score(sgd_clf, X_train_scaled, y_train, cv = 3, scoring = 'accuracy')"
      ],
      "execution_count": null,
      "outputs": [
        {
          "output_type": "execute_result",
          "data": {
            "text/plain": [
              "array([0.8983, 0.891 , 0.9018])"
            ]
          },
          "metadata": {
            "tags": []
          },
          "execution_count": 85
        }
      ]
    },
    {
      "cell_type": "markdown",
      "metadata": {
        "id": "olGgULUoXGSf"
      },
      "source": [
        "**Error Analysis**\n",
        "\n"
      ]
    },
    {
      "cell_type": "code",
      "metadata": {
        "id": "AeYAHVdPXPrp",
        "colab": {
          "base_uri": "https://localhost:8080/",
          "height": 187
        },
        "outputId": "b37792fa-f28d-4735-e44b-d5579a038572"
      },
      "source": [
        "y_train_pred = cross_val_predict(sgd_clf, X_train_scaled, y_train, cv = 3)\n",
        "conf_mx = confusion_matrix(y_train, y_train_pred)\n",
        "conf_mx"
      ],
      "execution_count": null,
      "outputs": [
        {
          "output_type": "execute_result",
          "data": {
            "text/plain": [
              "array([[5577,    0,   22,    5,    8,   43,   36,    6,  225,    1],\n",
              "       [   0, 6400,   37,   24,    4,   44,    4,    7,  212,   10],\n",
              "       [  27,   27, 5220,   92,   73,   27,   67,   36,  378,   11],\n",
              "       [  22,   17,  117, 5227,    2,  203,   27,   40,  403,   73],\n",
              "       [  12,   14,   41,    9, 5182,   12,   34,   27,  347,  164],\n",
              "       [  27,   15,   30,  168,   53, 4444,   75,   14,  535,   60],\n",
              "       [  30,   15,   42,    3,   44,   97, 5552,    3,  131,    1],\n",
              "       [  21,   10,   51,   30,   49,   12,    3, 5684,  195,  210],\n",
              "       [  17,   63,   48,   86,    3,  126,   25,   10, 5429,   44],\n",
              "       [  25,   18,   30,   64,  118,   36,    1,  179,  371, 5107]])"
            ]
          },
          "metadata": {
            "tags": []
          },
          "execution_count": 86
        }
      ]
    },
    {
      "cell_type": "code",
      "metadata": {
        "id": "J0iG01YGeGjR",
        "colab": {
          "base_uri": "https://localhost:8080/",
          "height": 278
        },
        "outputId": "6331edd9-1c1e-432b-c89f-d481a40f5467"
      },
      "source": [
        "#It's more convenient to look at an image representation of the confusion matrix\n",
        "plt.matshow(conf_mx, cmap = plt.cm.gray)\n",
        "plt.show()"
      ],
      "execution_count": null,
      "outputs": [
        {
          "output_type": "display_data",
          "data": {
            "image/png": "[encoded data removed]",
            "text/plain": [
              "<Figure size 288x288 with 1 Axes>"
            ]
          },
          "metadata": {
            "tags": [],
            "needs_background": "light"
          }
        }
      ]
    },
    {
      "cell_type": "markdown",
      "metadata": {
        "id": "VSHxsN8YeX29"
      },
      "source": [
        "This confusion matrix looks pretty good, since most images are on the main diagonal,\n",
        "which means that they were classified correctly. The 5s look slightly darker than\n",
        "the other digits, which could mean that there are fewer images of 5s in the dataset or\n",
        "that the classifier does not perform as well on 5s as on other digits. In fact, you can\n",
        "verify that both are the case."
      ]
    },
    {
      "cell_type": "markdown",
      "metadata": {
        "id": "Xc_Oz0cUer4B"
      },
      "source": [
        "Let’s focus the plot on the errors. First, you need to divide each value in the confusion\n",
        "matrix by the number of images in the corresponding class so that you can compare\n",
        "error rates instead of absolute numbers of errors (which would make abundant\n",
        "classes look unfairly bad):"
      ]
    },
    {
      "cell_type": "code",
      "metadata": {
        "id": "LS14KXnbexqc"
      },
      "source": [
        "row_sums = conf_mx.sum(axis = 1, keepdims = True)\n",
        "norm_conf_mx = conf_mx/row_sums\n",
        "norm_conf_mx"
      ],
      "execution_count": null,
      "outputs": []
    },
    {
      "cell_type": "code",
      "metadata": {
        "id": "dlIJe6Y7e76c",
        "colab": {
          "base_uri": "https://localhost:8080/",
          "height": 278
        },
        "outputId": "a98aff45-175c-4fa0-fa58-b9664a92d9a2"
      },
      "source": [
        "#Fill the diagonals with zeros to keep only the errors, and plot the result\n",
        "np.fill_diagonal(norm_conf_mx, 0)\n",
        "plt.matshow(norm_conf_mx, cmap = plt.cm.gray)\n",
        "plt.show()"
      ],
      "execution_count": null,
      "outputs": [
        {
          "output_type": "display_data",
          "data": {
            "image/png": "[encoded data removed]",
            "text/plain": [
              "<Figure size 288x288 with 1 Axes>"
            ]
          },
          "metadata": {
            "tags": [],
            "needs_background": "light"
          }
        }
      ]
    },
    {
      "cell_type": "code",
      "metadata": {
        "id": "BomJsjcg37EM",
        "colab": {
          "base_uri": "https://localhost:8080/",
          "height": 466
        },
        "outputId": "e743becb-9a35-454b-e5c4-2e8c8f3a82bb"
      },
      "source": [
        "cl_a, cl_b = 3, 5\n",
        "X_aa = X_train[(y_train == cl_a) & (y_train_pred == cl_a)]\n",
        "X_ab = X_train[(y_train == cl_a) & (y_train_pred == cl_b)]\n",
        "X_ba = X_train[(y_train == cl_b) & (y_train_pred == cl_a)]\n",
        "X_bb = X_train[(y_train == cl_b) & (y_train_pred == cl_b)]\n",
        "\n",
        "plt.figure(figsize=(8,8))\n",
        "plt.subplot(221); plot_digits(X_aa[:25], images_per_row=5)\n",
        "plt.subplot(222); plot_digits(X_ab[:25], images_per_row=5)\n",
        "plt.subplot(223); plot_digits(X_ba[:25], images_per_row=5)\n",
        "plt.subplot(224); plot_digits(X_bb[:25], images_per_row=5)\n",
        "plt.show()"
      ],
      "execution_count": null,
      "outputs": [
        {
          "output_type": "display_data",
          "data": {
            "image/png": "[encoded data removed]",
            "text/plain": [
              "<Figure size 576x576 with 4 Axes>"
            ]
          },
          "metadata": {
            "tags": [],
            "needs_background": "light"
          }
        }
      ]
    },
    {
      "cell_type": "markdown",
      "metadata": {
        "id": "XP2C_Mif4Bv4"
      },
      "source": [
        "# **Multilabel Classification**\n",
        "\n",
        "Until now each instance has always been assigned to just one class. In some cases you\n",
        "may want your classifier to output multiple classes for each instance. Consider a facerecognition\n",
        "classifier: what should it do if it recognizes several people in the same\n",
        "picture? It should attach one tag per person it recognizes. Say the classifier has been\n",
        "trained to recognize three faces, Alice, Bob, and Charlie. Then when the classifier is\n",
        "shown a picture of Alice and Charlie, it should output [1, 0, 1] (meaning “Alice yes,\n",
        "Bob no, Charlie yes”). Such a classification system that outputs multiple binary tags is\n",
        "called a multilabel classification system."
      ]
    },
    {
      "cell_type": "code",
      "metadata": {
        "id": "34DBYOGO4Qvr",
        "colab": {
          "base_uri": "https://localhost:8080/",
          "height": 68
        },
        "outputId": "1088caa3-1757-45d6-eee2-e85ee5b7760b"
      },
      "source": [
        "from sklearn.neighbors import KNeighborsClassifier\n",
        "\n",
        "y_train_large = (y_train >= 7)\n",
        "y_train_odd = (y_train % 2 == 1)\n",
        "y_multilabel = np.c_[y_train_large, y_train_odd]\n",
        "\n",
        "knn_clf = KNeighborsClassifier()\n",
        "knn_clf.fit(X_train, y_multilabel)"
      ],
      "execution_count": null,
      "outputs": [
        {
          "output_type": "execute_result",
          "data": {
            "text/plain": [
              "KNeighborsClassifier(algorithm='auto', leaf_size=30, metric='minkowski',\n",
              "                     metric_params=None, n_jobs=None, n_neighbors=5, p=2,\n",
              "                     weights='uniform')"
            ]
          },
          "metadata": {
            "tags": []
          },
          "execution_count": 94
        }
      ]
    },
    {
      "cell_type": "markdown",
      "metadata": {
        "id": "KS8Xm8IJ5Hxx"
      },
      "source": [
        "This code creates a y_multilabel array containing two target labels for each digit\n",
        "image: the first indicates whether or not the digit is large (7, 8, or 9), and the second\n",
        "indicates whether or not it is odd. The next lines create a KNeighborsClassifier\n",
        "instance (which supports multilabel classification, though not all classifiers do), and\n",
        "we train it using the multiple targets array. Now you can make a prediction, and\n",
        "notice that it outputs two labels:"
      ]
    },
    {
      "cell_type": "code",
      "metadata": {
        "id": "oB_L_uTV5JBL",
        "colab": {
          "base_uri": "https://localhost:8080/",
          "height": 34
        },
        "outputId": "42ab6648-c34f-4bce-df75-bb212a0bf276"
      },
      "source": [
        "knn_clf.predict([some_digit])"
      ],
      "execution_count": null,
      "outputs": [
        {
          "output_type": "execute_result",
          "data": {
            "text/plain": [
              "array([[False,  True]])"
            ]
          },
          "metadata": {
            "tags": []
          },
          "execution_count": 95
        }
      ]
    },
    {
      "cell_type": "markdown",
      "metadata": {
        "id": "nzC1Rtu85ONv"
      },
      "source": [
        "And it gets it right! The digit 5 is indeed not large (False) and odd (True)."
      ]
    },
    {
      "cell_type": "code",
      "metadata": {
        "id": "CvzLDrj45TqG",
        "colab": {
          "base_uri": "https://localhost:8080/",
          "height": 34
        },
        "outputId": "73b6242b-fc6b-4216-9e5c-f5559af1092a"
      },
      "source": [
        "#To evaluate the model, we measure the F1 score for each individual label\n",
        "#Then simply compute the average score.\n",
        "\n",
        "y_train_knn_pred = cross_val_predict(knn_clf, X_train, y_multilabel, cv = 3)\n",
        "f1_score(y_multilabel, y_train_knn_pred, average='macro')"
      ],
      "execution_count": null,
      "outputs": [
        {
          "output_type": "execute_result",
          "data": {
            "text/plain": [
              "0.976410265560605"
            ]
          },
          "metadata": {
            "tags": []
          },
          "execution_count": 96
        }
      ]
    },
    {
      "cell_type": "markdown",
      "metadata": {
        "id": "lM05wgyY6f5d"
      },
      "source": [
        "This assumes that all labels are equally important, however, which may not be the\n",
        "case. In particular, if you have many more pictures of Alice than of Bob or Charlie,\n",
        "you may want to give more weight to the classifier’s score on pictures of Alice. One\n",
        "simple option is to give each label a weight equal to its support (i.e., the number of instances with that target label). To do this, simply set average=\"weighted\" in the\n",
        "preceding code."
      ]
    },
    {
      "cell_type": "code",
      "metadata": {
        "id": "RAvBeicB6nXQ",
        "colab": {
          "base_uri": "https://localhost:8080/",
          "height": 34
        },
        "outputId": "7777dec8-39fb-4f1d-b8ab-d0d2da0cb211"
      },
      "source": [
        "f1_score(y_multilabel, y_train_knn_pred, average = 'weighted')"
      ],
      "execution_count": null,
      "outputs": [
        {
          "output_type": "execute_result",
          "data": {
            "text/plain": [
              "0.9778357403921755"
            ]
          },
          "metadata": {
            "tags": []
          },
          "execution_count": 97
        }
      ]
    },
    {
      "cell_type": "markdown",
      "metadata": {
        "id": "MP9jZLYAQ_h3"
      },
      "source": [
        "# **Multioutput Classification**\n",
        "\n"
      ]
    },
    {
      "cell_type": "code",
      "metadata": {
        "id": "9yJRctR5RMKc"
      },
      "source": [
        "noise = np.random.randint(0, 100, (len(X_train), 784))\n",
        "X_train_mod = X_train + noise\n",
        "noise = np.random.randint(0, 100, (len(X_test), 784))\n",
        "X_test_mod = X_test + noise\n",
        "y_train_mod = X_train\n",
        "y_test_mod = X_test"
      ],
      "execution_count": null,
      "outputs": []
    },
    {
      "cell_type": "code",
      "metadata": {
        "id": "SJzxRHm5RuP0",
        "colab": {
          "base_uri": "https://localhost:8080/",
          "height": 183
        },
        "outputId": "8c2c71a3-506d-46f0-8eb2-8a3b804e4ab9"
      },
      "source": [
        "some_index = 0\n",
        "plt.subplot(121)\n",
        "plot_digit(X_test_mod[some_index])\n",
        "plt.subplot(122)\n",
        "plot_digit(y_test_mod[some_index])\n",
        "plt.show()"
      ],
      "execution_count": null,
      "outputs": [
        {
          "output_type": "display_data",
          "data": {
            "image/png": "[encoded data removed]",
            "text/plain": [
              "<Figure size 432x288 with 2 Axes>"
            ]
          },
          "metadata": {
            "tags": [],
            "needs_background": "light"
          }
        }
      ]
    },
    {
      "cell_type": "code",
      "metadata": {
        "id": "JyI0BnZiSGS9",
        "colab": {
          "base_uri": "https://localhost:8080/",
          "height": 248
        },
        "outputId": "a3f9af1f-6755-44bc-b42e-d0e3a268cf3c"
      },
      "source": [
        "knn_clf.fit(X_train_mod, y_train_mod)\n",
        "clean_digit = knn_clf.predict([X_test_mod[some_index]])\n",
        "plot_digit(clean_digit)"
      ],
      "execution_count": null,
      "outputs": [
        {
          "output_type": "display_data",
          "data": {
            "image/png": "[encoded data removed]",
            "text/plain": [
              "<Figure size 432x288 with 1 Axes>"
            ]
          },
          "metadata": {
            "tags": [],
            "needs_background": "light"
          }
        }
      ]
    },
    {
      "cell_type": "markdown",
      "metadata": {
        "id": "KlEeXAgCSw_A"
      },
      "source": [
        "# **Dummy (i.e. random) classifier**"
      ]
    },
    {
      "cell_type": "code",
      "metadata": {
        "id": "CWsnd5xYS2pp",
        "colab": {
          "base_uri": "https://localhost:8080/",
          "height": 71
        },
        "outputId": "5db5c89c-84e2-4eed-aa85-c937f7093411"
      },
      "source": [
        "from sklearn.dummy import DummyClassifier\n",
        "dmy_clf = DummyClassifier()\n",
        "y_probas_dmy = cross_val_predict(dmy_clf, X_train, y_train_5, cv = 3, \n",
        "                                 method = \"predict_proba\")\n",
        "y_scores_dmy = y_probas_dmy[:, 1]"
      ],
      "execution_count": null,
      "outputs": [
        {
          "output_type": "stream",
          "text": [
            "/usr/local/lib/python3.6/dist-packages/sklearn/dummy.py:132: FutureWarning: The default value of strategy will change from stratified to prior in 0.24.\n",
            "  \"stratified to prior in 0.24.\", FutureWarning)\n"
          ],
          "name": "stderr"
        }
      ]
    },
    {
      "cell_type": "code",
      "metadata": {
        "id": "56smKwA-TLLa",
        "colab": {
          "base_uri": "https://localhost:8080/",
          "height": 292
        },
        "outputId": "0caf4063-36c4-44e3-eda1-8035addbc424"
      },
      "source": [
        "fprr, tprr, thresholdr = roc_curve(y_train_5, y_scores_dmy)\n",
        "plot_roc_curve(fprr, tprr)"
      ],
      "execution_count": null,
      "outputs": [
        {
          "output_type": "display_data",
          "data": {
            "image/png": "[encoded data removed]",
            "text/plain": [
              "<Figure size 432x288 with 1 Axes>"
            ]
          },
          "metadata": {
            "tags": [],
            "needs_background": "light"
          }
        }
      ]
    },
    {
      "cell_type": "markdown",
      "metadata": {
        "id": "J41egF-FUZLz"
      },
      "source": [
        "# **KNN Classifier**"
      ]
    },
    {
      "cell_type": "code",
      "metadata": {
        "id": "Cv-_OWBiUcJZ",
        "colab": {
          "base_uri": "https://localhost:8080/",
          "height": 68
        },
        "outputId": "22859f5e-2519-4e3a-b304-f0018bebc04d"
      },
      "source": [
        "from sklearn.neighbors import KNeighborsClassifier\n",
        "knn_clf = KNeighborsClassifier(weights = 'distance', n_neighbors=4)\n",
        "knn_clf.fit(X_train, y_train)"
      ],
      "execution_count": null,
      "outputs": [
        {
          "output_type": "execute_result",
          "data": {
            "text/plain": [
              "KNeighborsClassifier(algorithm='auto', leaf_size=30, metric='minkowski',\n",
              "                     metric_params=None, n_jobs=None, n_neighbors=4, p=2,\n",
              "                     weights='distance')"
            ]
          },
          "metadata": {
            "tags": []
          },
          "execution_count": 106
        }
      ]
    },
    {
      "cell_type": "code",
      "metadata": {
        "id": "Jq4ZNzU3UoQY"
      },
      "source": [
        "y_knn_pred = knn_clf.predict(X_test)"
      ],
      "execution_count": null,
      "outputs": []
    },
    {
      "cell_type": "code",
      "metadata": {
        "id": "pgkK07J3UuZx",
        "colab": {
          "base_uri": "https://localhost:8080/",
          "height": 34
        },
        "outputId": "2de82038-28ea-48f5-d32e-2edb3df59c87"
      },
      "source": [
        "from sklearn.metrics import accuracy_score\n",
        "accuracy_score(y_test, y_knn_pred)"
      ],
      "execution_count": null,
      "outputs": [
        {
          "output_type": "execute_result",
          "data": {
            "text/plain": [
              "0.9714"
            ]
          },
          "metadata": {
            "tags": []
          },
          "execution_count": 108
        }
      ]
    },
    {
      "cell_type": "code",
      "metadata": {
        "id": "JKroMw1HU-6n",
        "colab": {
          "base_uri": "https://localhost:8080/",
          "height": 248
        },
        "outputId": "707a2b65-621a-4fd2-8c9c-28fdf3dffa2d"
      },
      "source": [
        "from scipy.ndimage.interpolation import shift\n",
        "def shift_digit(digit_array, dx, dy, new = 0):\n",
        "  return shift(digit_array.reshape(28, 28), [dy, dx], cval = new).reshape(784)\n",
        "\n",
        "plot_digit(shift_digit(some_digit, 5, 1, new = 100))"
      ],
      "execution_count": null,
      "outputs": [
        {
          "output_type": "display_data",
          "data": {
            "image/png": "[encoded data removed]",
            "text/plain": [
              "<Figure size 432x288 with 1 Axes>"
            ]
          },
          "metadata": {
            "tags": [],
            "needs_background": "light"
          }
        }
      ]
    },
    {
      "cell_type": "code",
      "metadata": {
        "id": "y85sCTEFYoHg",
        "colab": {
          "base_uri": "https://localhost:8080/",
          "height": 34
        },
        "outputId": "efacdff1-85ef-4eca-e911-42a0ef921d55"
      },
      "source": [
        "X_train_expanded = [X_train]\n",
        "y_train_expanded = [y_train]\n",
        "for dx, dy in ((1, 0), (-1, 0), (0, 1), (0, -1)):\n",
        "  shifted_images = np.apply_along_axis(shift_digit, axis = 1, arr = X_train, \n",
        "                                       dx = dx, dy = dy)\n",
        "  X_train_expanded.append(shifted_images)\n",
        "  y_train_expanded.append(y_train)\n",
        "\n",
        "X_train_expanded = np.concatenate(X_train_expanded)\n",
        "y_train_expanded = np.concatenate(y_train_expanded)\n",
        "X_train_expanded.shape, y_train_expanded.shape"
      ],
      "execution_count": null,
      "outputs": [
        {
          "output_type": "execute_result",
          "data": {
            "text/plain": [
              "((300000, 784), (300000,))"
            ]
          },
          "metadata": {
            "tags": []
          },
          "execution_count": 110
        }
      ]
    },
    {
      "cell_type": "code",
      "metadata": {
        "id": "tk75Gl_dZVJh",
        "colab": {
          "base_uri": "https://localhost:8080/",
          "height": 68
        },
        "outputId": "fef11a4c-f8fb-4f0d-c012-841e733033fd"
      },
      "source": [
        "knn_clf.fit(X_train_expanded, y_train_expanded)"
      ],
      "execution_count": null,
      "outputs": [
        {
          "output_type": "execute_result",
          "data": {
            "text/plain": [
              "KNeighborsClassifier(algorithm='auto', leaf_size=30, metric='minkowski',\n",
              "                     metric_params=None, n_jobs=None, n_neighbors=4, p=2,\n",
              "                     weights='distance')"
            ]
          },
          "metadata": {
            "tags": []
          },
          "execution_count": 111
        }
      ]
    },
    {
      "cell_type": "code",
      "metadata": {
        "id": "7a0aWtv_ZamY"
      },
      "source": [
        "y_knn_expanded_pred = knn_clf.predict(X_test)"
      ],
      "execution_count": null,
      "outputs": []
    },
    {
      "cell_type": "code",
      "metadata": {
        "id": "IuLfpfxYZg1S",
        "colab": {
          "base_uri": "https://localhost:8080/",
          "height": 34
        },
        "outputId": "990018b6-b56b-4a1a-c2bd-833a5c2e23ad"
      },
      "source": [
        "accuracy_score(y_test, y_knn_expanded_pred)"
      ],
      "execution_count": null,
      "outputs": [
        {
          "output_type": "execute_result",
          "data": {
            "text/plain": [
              "0.9763"
            ]
          },
          "metadata": {
            "tags": []
          },
          "execution_count": 113
        }
      ]
    },
    {
      "cell_type": "code",
      "metadata": {
        "id": "GZLbO0_aZmZR",
        "colab": {
          "base_uri": "https://localhost:8080/",
          "height": 34
        },
        "outputId": "9bd65564-4ef4-4bef-ebd1-3e57bddca9f3"
      },
      "source": [
        "ambiguous_digit = X_test[2567]\n",
        "knn_clf.predict_proba([ambiguous_digit])"
      ],
      "execution_count": null,
      "outputs": [
        {
          "output_type": "execute_result",
          "data": {
            "text/plain": [
              "array([[0., 0., 0., 0., 0., 0., 0., 1., 0., 0.]])"
            ]
          },
          "metadata": {
            "tags": []
          },
          "execution_count": 114
        }
      ]
    },
    {
      "cell_type": "code",
      "metadata": {
        "id": "OA4W24KNZvwm",
        "colab": {
          "base_uri": "https://localhost:8080/",
          "height": 248
        },
        "outputId": "0330d431-4d74-45fb-ed25-d2abf5a68493"
      },
      "source": [
        "plot_digit(ambiguous_digit)"
      ],
      "execution_count": null,
      "outputs": [
        {
          "output_type": "display_data",
          "data": {
            "image/png": "[encoded data removed]",
            "text/plain": [
              "<Figure size 432x288 with 1 Axes>"
            ]
          },
          "metadata": {
            "tags": [],
            "needs_background": "light"
          }
        }
      ]
    }
  ]
}